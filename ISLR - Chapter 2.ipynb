{
 "cells": [
  {
   "cell_type": "markdown",
   "metadata": {},
   "source": [
    "# Introduction to Statistical Learning - Chapter 2\n",
    "\n",
    "- [2. Linear Regression](#2.-Linear-Regression)\n",
    "    * [2.1 Simple Linear Regression](#2.1-Simple-Linear-Regression)\n",
    "        + [2.1.1 Estimating the Coefficients](#2.1.1-Estimating-the-Coefficients)\n",
    "        + [2.1.2 Assessing the Accuracy of the Coefficient Estimates](#2.1.2-Assessing-the-Accuracy-of-the-Coefficient-Estimates)"
   ]
  },
  {
   "cell_type": "markdown",
   "metadata": {},
   "source": [
    "## 2. Linear Regression"
   ]
  },
  {
   "cell_type": "markdown",
   "metadata": {},
   "source": [
    "## 2.1 Simple Linear Regression"
   ]
  },
  {
   "cell_type": "markdown",
   "metadata": {},
   "source": [
    "- Very straightforward approach for predicting a quantitative response $Y$\n",
    "\n",
    "$$ Y \\approx \\beta_{0} + \\beta_{1}X$$\n",
    "where $\\beta_{0}$ and $\\beta_{1}$ represent the `intercept` and `slope` respectively"
   ]
  },
  {
   "cell_type": "markdown",
   "metadata": {},
   "source": [
    "## 2.1.1 Estimating the Coefficients"
   ]
  },
  {
   "cell_type": "markdown",
   "metadata": {},
   "source": [
    "- For linear model, the goal is to obtain coefficient estimates $\\beta_{0}$ and $\\beta_{1}$ where the resulting line is as close to the observations X\n",
    "    * Most common approach is the `least squares criterion`\n",
    "- Least squares approach chooses $\\beta_{0}$ and $\\beta_{1} to minimize the residual sum of squares `RSS`\n",
    "\n",
    "$$RSS = e^{2}_{1} + e^{2}_{2}+...+e^{2}_{n}$$\n",
    "where $e_{i} = y_{i} - \\hat{y_{i}}$ represent the ith residual, which is the difference between the ith observed response value and the predicted value from the linear model"
   ]
  },
  {
   "cell_type": "markdown",
   "metadata": {},
   "source": [
    "## 2.1.2 Assessing the Accuracy of the Coefficient Estimates"
   ]
  },
  {
   "cell_type": "markdown",
   "metadata": {},
   "source": []
  },
  {
   "cell_type": "markdown",
   "metadata": {},
   "source": []
  },
  {
   "cell_type": "markdown",
   "metadata": {},
   "source": []
  },
  {
   "cell_type": "markdown",
   "metadata": {},
   "source": []
  },
  {
   "cell_type": "markdown",
   "metadata": {},
   "source": []
  },
  {
   "cell_type": "markdown",
   "metadata": {},
   "source": []
  }
 ],
 "metadata": {
  "kernelspec": {
   "display_name": "Python 3",
   "language": "python",
   "name": "python3"
  },
  "language_info": {
   "codemirror_mode": {
    "name": "ipython",
    "version": 3
   },
   "file_extension": ".py",
   "mimetype": "text/x-python",
   "name": "python",
   "nbconvert_exporter": "python",
   "pygments_lexer": "ipython3",
   "version": "3.8.3"
  }
 },
 "nbformat": 4,
 "nbformat_minor": 4
}
