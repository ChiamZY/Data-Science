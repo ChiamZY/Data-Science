{
 "cells": [
  {
   "cell_type": "markdown",
   "metadata": {},
   "source": [
    "# Introduction to Statistical Learning - Chapter 5\n"
   ]
  },
  {
   "cell_type": "markdown",
   "metadata": {},
   "source": [
    "# 5. Linear Model Selection and Regularization"
   ]
  },
  {
   "cell_type": "markdown",
   "metadata": {},
   "source": [
    "$$ Y = \\beta_{0} + \\beta_{1}X_{1} + ... + \\beta_{p}X_{p} + \\epsilon $$\n",
    "\n",
    "- While linear model has distinct advantages in terms of inference, most problems are non-linear\n",
    "    * Alternative fitting can yield better `prediction accuracy` and `interpretability`\n",
    "\n",
    "**Prediction Accuracy**\n",
    "- Provided the true relationship between response and predictors is approximately linear, the least squares estimates will have low bias\n",
    "    * If n is >> p, then the least squares estimates will have low variance\n",
    "\n",
    "**Model Interpretability**\n",
    "- Some or many of variables used in the multiple regression model are in fact not associated with the response\n",
    "    * Including irrelevant variables leads to unnecessary complexity in the resulting model\n",
    "        + Need for feature selection or variables selection to exclude irrelevant variables\n",
    "        \n",
    "**Classes of Feature Selection**\n",
    "- Subset Selection\n",
    "    * Identifying a subset of the p predictors that we believe to be related to the response\n",
    "        + Fit the model on these reduced set of variables\n",
    "- Shrinkage\n",
    "    * Fitting a model with all p predictors\n",
    "        + But, the estimated coefficients shrunken towards zero relative to the least squares estimates to reduce variance\n",
    "        + Also known as regularization\n",
    "- Dimension Reduction\n",
    "    * Projecting the p predictors into a M-dimensional subspace where M < p\n",
    "        + Computing M different linear combinations or projections of the variables"
   ]
  },
  {
   "cell_type": "markdown",
   "metadata": {},
   "source": [
    "## 5.1. Subset Selection"
   ]
  },
  {
   "cell_type": "markdown",
   "metadata": {},
   "source": [
    "## 5.1.1. Best Subset Selection"
   ]
  },
  {
   "cell_type": "markdown",
   "metadata": {},
   "source": []
  },
  {
   "cell_type": "markdown",
   "metadata": {},
   "source": []
  },
  {
   "cell_type": "markdown",
   "metadata": {},
   "source": []
  },
  {
   "cell_type": "markdown",
   "metadata": {},
   "source": []
  },
  {
   "cell_type": "markdown",
   "metadata": {},
   "source": []
  },
  {
   "cell_type": "markdown",
   "metadata": {},
   "source": []
  },
  {
   "cell_type": "markdown",
   "metadata": {},
   "source": []
  },
  {
   "cell_type": "markdown",
   "metadata": {},
   "source": []
  },
  {
   "cell_type": "markdown",
   "metadata": {},
   "source": []
  },
  {
   "cell_type": "markdown",
   "metadata": {},
   "source": []
  },
  {
   "cell_type": "markdown",
   "metadata": {},
   "source": []
  },
  {
   "cell_type": "markdown",
   "metadata": {},
   "source": []
  },
  {
   "cell_type": "markdown",
   "metadata": {},
   "source": []
  },
  {
   "cell_type": "markdown",
   "metadata": {},
   "source": []
  }
 ],
 "metadata": {
  "kernelspec": {
   "display_name": "Python 3",
   "language": "python",
   "name": "python3"
  },
  "language_info": {
   "codemirror_mode": {
    "name": "ipython",
    "version": 3
   },
   "file_extension": ".py",
   "mimetype": "text/x-python",
   "name": "python",
   "nbconvert_exporter": "python",
   "pygments_lexer": "ipython3",
   "version": "3.7.6"
  }
 },
 "nbformat": 4,
 "nbformat_minor": 4
}
