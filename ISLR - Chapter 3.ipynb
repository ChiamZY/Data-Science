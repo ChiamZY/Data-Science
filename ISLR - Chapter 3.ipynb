{
 "cells": [
  {
   "cell_type": "markdown",
   "metadata": {},
   "source": [
    "# Introduction to Statistical Learning - Chapter 3\n",
    "\n",
    "- [3. Classification](#3.-Classification)\n",
    "    * [3.1. Logistic Regression](#3.1.-Logistic-Regression)\n",
    "        + [3.1.1. The Logistic Model](#3.1.1.-The-Logistic-Model)"
   ]
  },
  {
   "cell_type": "markdown",
   "metadata": {},
   "source": [
    "# 3. Classification"
   ]
  },
  {
   "cell_type": "markdown",
   "metadata": {},
   "source": [
    "- A situation where the response variable is `qualitative` instead of quantitative\n",
    "    * Techniques used to predict a qualitative response include:\n",
    "        + Logistic regression\n",
    "        + Linear discriminant analysis\n",
    "        + K-nearest neighbours\n",
    "    * Other more computer-intensive methods include:\n",
    "        + Generalized additive models\n",
    "        + Trees and random forests and boosting\n",
    "        + Support vector machines\n",
    "- Forcing qualitative variables into a regression model wrongly assumes that the difference between the predictors is similar\n",
    "- Two types of qualitative data:\n",
    "    * Ordinal\n",
    "        + Variables with a specific order (Low, Medium, High)\n",
    "    * Nominal\n",
    "        + Variables with no specific order (Book, Television, Car)"
   ]
  },
  {
   "cell_type": "markdown",
   "metadata": {},
   "source": [
    "## 3.1. Logistic Regression"
   ]
  },
  {
   "cell_type": "markdown",
   "metadata": {},
   "source": [
    "- Logisitic regression models the probability that the response $Y$ belongs to a particular category\n",
    "    * Values will range between 0 and 1\n",
    "    \n",
    "$$ p(X) = Pr(Y = 1|X) $$"
   ]
  },
  {
   "cell_type": "markdown",
   "metadata": {},
   "source": [
    "### 3.1.1. The Logistic Model"
   ]
  },
  {
   "cell_type": "markdown",
   "metadata": {},
   "source": [
    "- To model the $p(X)$ that gives outputs between 0 and 1 for all values of X, we can use the logistic function\n",
    "\n",
    "$$ p(X) = \\frac{e^{\\beta_{0} + \\beta_{1}X}}{1 + e^{\\beta_{0} + \\beta_{1}X}} $$\n",
    "\n",
    "where $\\frac{p(X)}{1-p(X)}$ is the `odds` and can take on any value between 0 and $\\infty$\n",
    "\n",
    "- Values of the odds close to 0 and $\\infty$ indicate *very low* and *high* probabilities of the response belonging to a particular category respectively\n",
    "- By taking the logarithm of both sides, we can get the log-odds or logit\n",
    "\n",
    "$$ log(\\frac{p(X)}{1-p(X)} = \\beta_{0} + \\beta_{1}X $$\n",
    "\n",
    "where increasing $X$ by one unit changes the log odds by $\\beta_{1}$.\n",
    "- However, $\\beta_{1}$ does not correspond to the change in $p(X)$ associated with a one-unit increase in X"
   ]
  },
  {
   "cell_type": "markdown",
   "metadata": {},
   "source": [
    "### 3.1.2. Estimating the Regression Coefficients"
   ]
  },
  {
   "cell_type": "markdown",
   "metadata": {},
   "source": [
    "- Maximum likelihood to fit a logistic regression model\n",
    "    * Seeks estimates for $\\beta_{0}$ and $\\beta_{1}$ such that the predicted proability $\\hat{p}(X_{i})$ will correspond as closely as possible to the observed response.\n",
    "        + One unit increase in the predictor $X_{j}$ is associated with an increase in the log odds of the response (Y=1) by $\\hat{\\beta_{1}}$\n",
    "- To measure the accuracy of the coefficient estimates, the standard error can be computed\n",
    "    * *Z-statistic* is associated with $\\beta_{1}$ is equal to $\\hat{\\beta_{1}}/SE(\\hat{\\beta_{1}})$\n",
    "        + A large value of *z-statistic* indicates evidence against the null hypothesis (p < 0.05)"
   ]
  },
  {
   "cell_type": "markdown",
   "metadata": {},
   "source": [
    "### 3.1.3. Making Predictions"
   ]
  },
  {
   "cell_type": "markdown",
   "metadata": {},
   "source": [
    "- Qualitative predictors can be used with the logistic regression model using the dummy variable approach\n",
    "    * We can assign a dummy variable that takes on a value of 1 and 0\n",
    "\n",
    "**For value of 1:**\n",
    "\n",
    "$$ p(X) = \\frac{e^{\\beta_{0} + \\beta_{1}X}}{1 + e^{\\beta_{0} + \\beta_{1}X}} $$\n",
    "\n",
    "**For value of 0:**\n",
    "\n",
    "$$ p(X) = \\frac{e^{\\beta_{0}}}{1 + e^{\\beta_{0}}} $$"
   ]
  },
  {
   "cell_type": "markdown",
   "metadata": {},
   "source": [
    "### 3.1.4. Multiple Logistic Regression"
   ]
  },
  {
   "cell_type": "markdown",
   "metadata": {},
   "source": []
  },
  {
   "cell_type": "code",
   "execution_count": null,
   "metadata": {},
   "outputs": [],
   "source": []
  },
  {
   "cell_type": "markdown",
   "metadata": {},
   "source": []
  },
  {
   "cell_type": "markdown",
   "metadata": {},
   "source": []
  }
 ],
 "metadata": {
  "kernelspec": {
   "display_name": "Python 3",
   "language": "python",
   "name": "python3"
  },
  "language_info": {
   "codemirror_mode": {
    "name": "ipython",
    "version": 3
   },
   "file_extension": ".py",
   "mimetype": "text/x-python",
   "name": "python",
   "nbconvert_exporter": "python",
   "pygments_lexer": "ipython3",
   "version": "3.7.6"
  }
 },
 "nbformat": 4,
 "nbformat_minor": 4
}
