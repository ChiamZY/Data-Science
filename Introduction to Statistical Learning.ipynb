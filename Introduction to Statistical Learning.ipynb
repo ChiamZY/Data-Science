{
 "cells": [
  {
   "cell_type": "markdown",
   "metadata": {},
   "source": [
    "# Introduction to Statistical Learning\n",
    "- [1.1. Statistical Learning](#1.1.-Statistical-Learning)"
   ]
  },
  {
   "cell_type": "markdown",
   "metadata": {},
   "source": [
    "# 1. Statistical Learning"
   ]
  },
  {
   "cell_type": "markdown",
   "metadata": {},
   "source": [
    "## 1.1. Why estimate $f$"
   ]
  },
  {
   "cell_type": "markdown",
   "metadata": {},
   "source": [
    "**Prediction**\n",
    "- The accuracy of $\\hat{Y}$ as a prediction of $Y$ depends on two quantities, the `reducible error` and the `irreducible error`.\n",
    "- In general, $\\hat{f}$ will not be a perfect estimate for $f$, and this inaccuracy will introduce some error.\n",
    "    * The key is to estimate $f$ with the aim of minimizing the `reducible error` associated with the error term $\\epsilon$\n",
    "    \n",
    "**Inference**\n",
    "- Interested in understanding the relationship between X and Y:\n",
    "    * What predictors are associated with the response?\n",
    "    * What is the relationship between the response and each predictor?\n",
    "    * Can the relationship between Y and each predictor be adequately summarized using a linear equation, or is the relationship more complicated?"
   ]
  },
  {
   "cell_type": "markdown",
   "metadata": {},
   "source": [
    "## 1.2. How do we  estimate $f$"
   ]
  },
  {
   "cell_type": "code",
   "execution_count": null,
   "metadata": {},
   "outputs": [],
   "source": []
  }
 ],
 "metadata": {
  "kernelspec": {
   "display_name": "Python 3",
   "language": "python",
   "name": "python3"
  },
  "language_info": {
   "codemirror_mode": {
    "name": "ipython",
    "version": 3
   },
   "file_extension": ".py",
   "mimetype": "text/x-python",
   "name": "python",
   "nbconvert_exporter": "python",
   "pygments_lexer": "ipython3",
   "version": "3.7.6"
  }
 },
 "nbformat": 4,
 "nbformat_minor": 4
}
